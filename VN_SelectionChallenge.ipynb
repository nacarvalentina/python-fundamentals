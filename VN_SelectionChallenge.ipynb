{
  "nbformat": 4,
  "nbformat_minor": 0,
  "metadata": {
    "colab": {
      "name": "VN_SelectionChallenge.ipynb",
      "provenance": [],
      "collapsed_sections": [],
      "include_colab_link": true
    },
    "kernelspec": {
      "name": "python3",
      "display_name": "Python 3"
    }
  },
  "cells": [
    {
      "cell_type": "markdown",
      "metadata": {
        "id": "view-in-github",
        "colab_type": "text"
      },
      "source": [
        "<a href=\"https://colab.research.google.com/github/nacarvalentina/python-fundamentals/blob/main/VN_SelectionChallenge.ipynb\" target=\"_parent\"><img src=\"https://colab.research.google.com/assets/colab-badge.svg\" alt=\"Open In Colab\"/></a>"
      ]
    },
    {
      "cell_type": "markdown",
      "metadata": {
        "id": "-QxAKPD8DZfj"
      },
      "source": [
        "# Three selection challenges\n",
        "\n",
        "---\n"
      ]
    },
    {
      "cell_type": "markdown",
      "metadata": {
        "id": "2KYUALILDcM9"
      },
      "source": [
        "### Challenge 1 - password format  \n",
        "\n",
        "Write a function called **check_password_valid()** which will check the validity of a **password** input by a user.\n",
        "\n",
        "Rules for a valid password are:  \n",
        "\n",
        "*  At least 1 letter between [a-z] and 1 letter between [A-Z].\n",
        "*  At least 1 number between [0-9].\n",
        "*  At least 1 character from [$#@].\n",
        "*  Minimum length 6 characters.\n",
        "*  Maximum length 16 characters.  \n",
        "\n",
        "Let the user know if the `password` they have typed is valid and, if not, where was the first error.\n",
        "\n",
        "*Hint:  to test if a set of characters is present in a password String, you can use re.search('[character set]', `password`)*  \n",
        "\n",
        "Example:   \n",
        "*if re.search('[a-z]',`password`):*    \n",
        "this will be True if there is at least 1 character a-z in the password.\n",
        "\n",
        "**re** is a pre-written Python function for pattern searching in Strings.  It has been imported for you in the code cell below.  "
      ]
    },
    {
      "cell_type": "code",
      "metadata": {
        "id": "8wBK9IA4BO2e",
        "colab": {
          "base_uri": "https://localhost:8080/"
        },
        "outputId": "52ed4cea-31ae-4f0a-ee74-82e880ec2f37"
      },
      "source": [
        "import re\n",
        "\n",
        "# add your check_PasswordValid() function and call below here\n",
        "def check_password_valid():\n",
        "  password=input(\"Please enter a password: \")\n",
        " # password=password.lower()\n",
        " #   lower= password.islower()\n",
        " #   password=password.upper()\n",
        " #   upper= password.isupper()  \n",
        "\n",
        "#Is there an order for the error messages?\n",
        "#BEcause now it's checking first the lower case, should I print all the errors at the same time?\n",
        "\n",
        "  if re.search('[a-z]', password):\n",
        "    if re.search('[A-Z]', password):\n",
        "      if re.search('[0-9]', password):\n",
        "        if re.search('[$#@]', password):\n",
        "          if len(password)>16 or len(password)<6:\n",
        "            print(\"Password must have between 6 and 16 characters\")\n",
        "          else:\n",
        "            print(\"Password is ok\")\n",
        "            print(password)\n",
        "        else:\n",
        "          print(\"Password must have at least one special character\")\n",
        "      else:\n",
        "        print(\"Password must have at leasr one number\")\n",
        "    else:\n",
        "      print(\"Password must have alt least a capital letter\")\n",
        "  else:\n",
        "    print(\"Password must contain at least one lower case letter\")\n",
        " \n",
        "check_password_valid() \n",
        "\n"
      ],
      "execution_count": 4,
      "outputs": [
        {
          "output_type": "stream",
          "name": "stdout",
          "text": [
            "Please enter a password: 1234567\n",
            "Password must contain at least one lower case letter\n"
          ]
        }
      ]
    },
    {
      "cell_type": "markdown",
      "metadata": {
        "id": "f0R4GYTEFQS-"
      },
      "source": [
        "---\n",
        "### Challenge 2 - triangle shape  \n",
        "\n",
        "Write a function called **evaluate_triangle_shape()** which will check if a triangle is equilateral, isosceles or scalene, based on the three side lengths entered by a user (**x**, **y** and **z**.\n",
        "\n",
        "An equilateral triangle is a triangle in which all three sides are equal.\n",
        "A scalene triangle is a triangle that has three unequal sides.\n",
        "An isosceles triangle is a triangle with (at least) two equal sides.\n",
        "\n",
        "For example:  \n",
        "A triange with side lengths                                 \n",
        "x: 6                                                                    \n",
        "y: 8                                                                    \n",
        "z: 12                                                                   \n",
        "is a *Scalene triangle*\n",
        "\n",
        "A triangle with side lengths\n",
        "x:5  \n",
        "y:3   \n",
        "z:5  \n",
        "is an *Isosceles triangle*"
      ]
    },
    {
      "cell_type": "code",
      "metadata": {
        "id": "oBgl4ro1DVL0",
        "colab": {
          "base_uri": "https://localhost:8080/"
        },
        "outputId": "ca23e147-7d3a-4bc7-8e8a-30e0e2bc76d8"
      },
      "source": [
        "def evaluate_triangle_shape():\n",
        "  x=int(input(\"Enter the length for side 1: \")) \n",
        "  y=int(input(\"Enter the length for side 2: \")) \n",
        "  z=int(input(\"Enter the length for side 2: \")) \n",
        "\n",
        "  if x==y and y==z:\n",
        "    print(\"This is an equilateral triangle\")\n",
        "  elif x==y or x==z:\n",
        "     print(\"This is an isosceles triangle\")  \n",
        "  else:\n",
        "    print(\"This is a scalene triangle\") \n",
        "\n",
        "evaluate_triangle_shape()"
      ],
      "execution_count": 8,
      "outputs": [
        {
          "output_type": "stream",
          "name": "stdout",
          "text": [
            "Enter the length for side 1: 3\n",
            "Enter the length for side 2: 4\n",
            "Enter the length for side 2: 5\n",
            "This is a scalene triangle\n"
          ]
        }
      ]
    },
    {
      "cell_type": "markdown",
      "metadata": {
        "id": "hr2EotkqG33l"
      },
      "source": [
        "---\n",
        "### Challenge 3 - which season\n",
        "\n",
        "Write a function called **determine_season()** which will ask the user to enter two integers representing a **month** and **day** and prints the season for that month and day.\n",
        "\n",
        "Note:  for this exercise the season dates are:\n",
        "*  Winter December 21 to March 20    \n",
        "*  Spring March 21 to June 20  \n",
        "*  Summer June 21 to September 20  \n",
        "*  Autumn September 21 to December 20\n",
        "\n",
        "Test input:  \n",
        "Input the month (e.g. January, February etc.): 7                     \n",
        "Input the day: 31                                                       \n",
        "\n",
        "Expected output:  \n",
        "Season is summer \n",
        "\n",
        "*Note: this will require multiple and or or operators and you should use brackets to help Python know which operations to do first*  \n",
        "\n",
        "*For an extra challenge you can check that the day is valid for the month*"
      ]
    },
    {
      "cell_type": "code",
      "metadata": {
        "id": "cvbfz8nzG4IL",
        "colab": {
          "base_uri": "https://localhost:8080/"
        },
        "outputId": "b3be1109-850d-47a4-8eec-a2a8a36ba3ef"
      },
      "source": [
        "def determine_season():\n",
        "  month=int(input(\"Enter a month in integers: \"))\n",
        "  day=int(input(\"Enter a day: \"))\n",
        "  if (month in (1,2)) or (month==3 and day<21) or (month==12 and day>20):\n",
        "    print(\"Winter\")\n",
        "  elif(month in(4,5)) or (month==3 and day>20) or (month==6 and day>21):\n",
        "    print(\"Spring\")\n",
        "  elif(month in (7,8)) or (month==6 and day>20) or (month==9 and day>21):\n",
        "    print(\"Summer\")\n",
        "  elif(month in (10,11)) or (month==12 and day<21) or (month==9 and day>20):\n",
        "    print(\"Autumn\")\n",
        "determine_season()"
      ],
      "execution_count": 11,
      "outputs": [
        {
          "output_type": "stream",
          "name": "stdout",
          "text": [
            "Enter a month in integers: 3\n",
            "Enter a day: 21\n",
            "Spring\n"
          ]
        }
      ]
    }
  ]
}