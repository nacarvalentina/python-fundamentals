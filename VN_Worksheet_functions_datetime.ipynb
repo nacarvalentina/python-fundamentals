{
  "nbformat": 4,
  "nbformat_minor": 0,
  "metadata": {
    "colab": {
      "name": "VN_Worksheet-functions-datetime.ipynb",
      "provenance": [],
      "collapsed_sections": [],
      "include_colab_link": true
    },
    "kernelspec": {
      "name": "python3",
      "display_name": "Python 3"
    },
    "language_info": {
      "name": "python"
    }
  },
  "cells": [
    {
      "cell_type": "markdown",
      "metadata": {
        "id": "view-in-github",
        "colab_type": "text"
      },
      "source": [
        "<a href=\"https://colab.research.google.com/github/nacarvalentina/python-fundamentals/blob/main/VN_Worksheet_functions_datetime.ipynb\" target=\"_parent\"><img src=\"https://colab.research.google.com/assets/colab-badge.svg\" alt=\"Open In Colab\"/></a>"
      ]
    },
    {
      "cell_type": "markdown",
      "metadata": {
        "id": "7iQyKP-SQiw1"
      },
      "source": [
        "# User-defined functions using datetime library\n",
        "\n",
        "---\n"
      ]
    },
    {
      "cell_type": "markdown",
      "metadata": {
        "id": "Vi93h5I4QnKs"
      },
      "source": [
        "When working with dates and times, fairly common in data sets, we need to be able to extract certain bits of information.  \n",
        "\n",
        "In Python, as with other languages, dates and times are stored in a data structure that combines the two together and stores the information as a number of seconds since a start point (often 1st January 1900).  This is obviously a large number but every bit of information about a date can be extracted from it and used to give a wide range of information.  \n",
        "\n",
        "Have a go at the exercises below to use a selection of datetime functions and return a new bit of data from each, to be printed by the caller.\n",
        "\n",
        "Before you can use datetime functions you will need to import them. Import the datetime functions like this:\n",
        "\n",
        "`from datetime import datetime`  \n",
        "\n",
        "\n",
        "For more information about datetime functions visit [w3Schools-Python datetime](https://www.w3schools.com/python/python_datetime.asp) and [Python docs](https://docs.python.org/3/library/datetime.html)"
      ]
    },
    {
      "cell_type": "markdown",
      "metadata": {
        "id": "MIDLi7CNR034"
      },
      "source": [
        "---\n",
        "### Exercise 1 - print current date and time\n",
        "\n",
        "Write a function that will return the date and time now.  The caller will print it.  \n",
        "\n",
        "*Hint:  the format has been added for you, the other exercises will follow a similar format.   Always remember to import datetime from datetime as shown below*"
      ]
    },
    {
      "cell_type": "code",
      "metadata": {
        "id": "gS6GJdXbQfHp",
        "colab": {
          "base_uri": "https://localhost:8080/"
        },
        "outputId": "3a0e0b4e-7cf3-4a7d-f917-855bf894957f"
      },
      "source": [
        "from datetime import datetime, timezone\n",
        "# add your function, called get_datetime_now() below here\n",
        "def get_datetime_now():\n",
        "  now = datetime.now()\n",
        "  return now\n",
        "\n",
        "now_date_time = get_datetime_now()\n",
        "print(now_date_time)"
      ],
      "execution_count": 3,
      "outputs": [
        {
          "output_type": "stream",
          "name": "stdout",
          "text": [
            "2022-01-20 00:26:03.266708\n"
          ]
        }
      ]
    },
    {
      "cell_type": "markdown",
      "metadata": {
        "id": "Yy24sL0bUtpF"
      },
      "source": [
        "---\n",
        "Exercise 2 - print the current year\n",
        "\n",
        "Write a function that will return the current year.  The caller will print the year."
      ]
    },
    {
      "cell_type": "code",
      "metadata": {
        "id": "YqlQqPIqUtyr",
        "colab": {
          "base_uri": "https://localhost:8080/"
        },
        "outputId": "d8fb91f4-2ac1-4df2-a587-405c7a95ffd4"
      },
      "source": [
        "from datetime import datetime\n",
        "def year_now():\n",
        "  now = datetime.now() # current date and time\n",
        "  year= now.strftime(\"%Y\")\n",
        "  return year\n",
        "\n",
        "yr=year_now()\n",
        "print (yr)"
      ],
      "execution_count": 8,
      "outputs": [
        {
          "output_type": "stream",
          "name": "stdout",
          "text": [
            "2022\n"
          ]
        }
      ]
    },
    {
      "cell_type": "markdown",
      "metadata": {
        "id": "FzSVCaJKV1O1"
      },
      "source": [
        "---\n",
        "### Exercise 3 - print the current day of the week\n",
        "\n",
        "Write a function that will return the current day of the week.  The caller will print it."
      ]
    },
    {
      "cell_type": "code",
      "metadata": {
        "id": "OP4ZIXBWV1Yj",
        "colab": {
          "base_uri": "https://localhost:8080/"
        },
        "outputId": "358be4de-f0b6-48a7-fe22-e6ff150a07a7"
      },
      "source": [
        "from datetime import datetime\n",
        "def day_now():\n",
        "  now=datetime.now()\n",
        "  day= now.strftime(\"%A\")\n",
        "  return day\n",
        "\n",
        "dayweek=day_now()\n",
        "print(dayweek)\n"
      ],
      "execution_count": 10,
      "outputs": [
        {
          "output_type": "stream",
          "name": "stdout",
          "text": [
            "Thursday\n"
          ]
        }
      ]
    },
    {
      "cell_type": "markdown",
      "metadata": {
        "id": "a8euCtdmWIDE"
      },
      "source": [
        "---\n",
        "### Exercise 4 - create a new date\n",
        "\n",
        "Write a function that will take 3 parameters, day, month, year (3 numbers that make a valid date) and will create, and return a new date.  The caller will print the date."
      ]
    },
    {
      "cell_type": "code",
      "metadata": {
        "id": "FbOFnTwnWILN",
        "colab": {
          "base_uri": "https://localhost:8080/"
        },
        "outputId": "54415e0f-a4a6-4ba4-833d-11f398d18efa"
      },
      "source": [
        "import datetime\n",
        "def create_date(y,m,d):\n",
        "  date=datetime.date(y,m,d)\n",
        "  return date\n",
        "\n",
        "new_date=create_date(2022,3,20)\n",
        "print(new_date)\n"
      ],
      "execution_count": 18,
      "outputs": [
        {
          "output_type": "stream",
          "name": "stdout",
          "text": [
            "2022-03-20\n"
          ]
        }
      ]
    },
    {
      "cell_type": "markdown",
      "metadata": {
        "id": "f5SKVuE0WfcE"
      },
      "source": [
        "---\n",
        "### Exercise 5 - create a valid date\n",
        "\n",
        "Write a function that will take 3 parameters, day, month, year (3 numbers) and will:  \n",
        "*   check that the month is between 1 and 12  \n",
        "*   check that the day is valid for the month (e.g. if the month is 2, then the day must be between 1 and 28 (don't worry about leap years for the moment)  \n",
        "*   if the date is not valid, print an error message and return None (which the caller will print)  \n",
        "*   if the date is valid, store it in a new variable, return the variable and the caller will print it."
      ]
    },
    {
      "cell_type": "code",
      "metadata": {
        "id": "gclt-f9-XfdG",
        "colab": {
          "base_uri": "https://localhost:8080/"
        },
        "outputId": "4d283532-8b7a-4c61-c76b-288d46a7e3ea"
      },
      "source": [
        "import datetime\n",
        "def valid_date(y,m,d):\n",
        "  month_30=[4,6,9,11]\n",
        "  if 1<=m<=12:\n",
        "    if m==2:\n",
        "      if d>28 or d<1:\n",
        "        return \"invalid day\"\n",
        "      else:\n",
        "        date=datetime.date(y,m,d)\n",
        "        print(date)\n",
        "        return date\n",
        "    elif m in month_30:\n",
        "      if d>30 or d<1:\n",
        "        return \"invalid day\"\n",
        "      else:\n",
        "        date=datetime.date(y,m,d) \n",
        "        return date                      \n",
        "    else:\n",
        "      if d>31 or d<1:\n",
        "        return \"invalid day\"\n",
        "      else:\n",
        "        date=datetime.date(y,m,d) \n",
        "        return date                       \n",
        "  else:\n",
        "        return \"invalid day\"\n",
        "\n",
        "v_date=valid_date(2022,4,30)\n",
        "print(v_date)"
      ],
      "execution_count": 42,
      "outputs": [
        {
          "output_type": "stream",
          "name": "stdout",
          "text": [
            "2022-04-30\n"
          ]
        }
      ]
    },
    {
      "cell_type": "markdown",
      "metadata": {
        "id": "js7fy2HWXfm2"
      },
      "source": [
        "---\n",
        "### Exercise 6 - is it a leap year?\n",
        "\n",
        "Write a function that will take a date as a parameter (you will need to create the date variable before calling the function) and will determine if it is a leap year, returning True or False.\n",
        "\n",
        "*Hint:  a leap year is a year that is divisible by 4 but the centuries (1900, 2000, etc are only leap years if they are divisible by 400)*"
      ]
    },
    {
      "cell_type": "code",
      "metadata": {
        "id": "KY1jtf3lX_ps",
        "colab": {
          "base_uri": "https://localhost:8080/"
        },
        "outputId": "22dc58a1-be87-43b6-ddfb-6b5d06c45251"
      },
      "source": [
        "from datetime import datetime\n",
        "def is_leap_year(date_to_check):\n",
        "  # add your code below here\n",
        "  yrl=int(date_to_check.strftime(\"%Y\"))\n",
        "  #print (\"yr1 = \",yrl)\n",
        "  if (yrl%400==0) or(yrl%100!=0 and yrl%4==0):\n",
        "    return True\n",
        "  else:\n",
        "    return False\n",
        "\n",
        "check_date = datetime(2000, 12, 15)\n",
        "\n",
        "if is_leap_year(check_date):\n",
        "  print(check_date.strftime(\"%Y\"), \"is a leap year\")\n",
        "else:\n",
        "  print(check_date.strftime(\"%Y\"), \"is not a leap year\")"
      ],
      "execution_count": 14,
      "outputs": [
        {
          "output_type": "stream",
          "name": "stdout",
          "text": [
            "2000 is a leap year\n"
          ]
        }
      ]
    },
    {
      "cell_type": "markdown",
      "metadata": {
        "id": "9BuRDi08YAO0"
      },
      "source": [
        "---\n",
        "### Exercise 7 - display parts of date/time\n",
        "\n",
        "Write a function that will take a date and print from it the following:  \n",
        "*  given date and time  \n",
        "*  year (in full) \n",
        "*  month (as a number) \n",
        "*  month name \n",
        "*  week number of the year  \n",
        "*  weekday of the week (as a number)  \n",
        "*  day of year  \n",
        "*  day of the month  \n",
        "*  day of week (as a name)  \n",
        "\n",
        "*Hint:  see w3Schools for [strftime reference](https://www.w3schools.com/python/python_datetime.asp)*\n",
        "\n"
      ]
    },
    {
      "cell_type": "code",
      "metadata": {
        "id": "zl-37Ez9ahym",
        "colab": {
          "base_uri": "https://localhost:8080/"
        },
        "outputId": "e12c4421-eeb7-4aeb-ea61-f77e8c2cf24e"
      },
      "source": [
        "import datetime\n",
        "def print_date(y,m,d):\n",
        "  dt=datetime.date(y,m,d)\n",
        "  print(dt)\n",
        "  yr=dt.strftime(\"%Y\")\n",
        "  print(yr)\n",
        "  monnum=dt.strftime(\"%m\")\n",
        "  print(monnum)\n",
        "  mon=dt.strftime(\"%B\")\n",
        "  print(mon)\n",
        "  week=dt.strftime(\"%U\")\n",
        "  print(week)\n",
        "  dayofyr=dt.strftime(\"%j\")\n",
        "  print(dayofyr)\n",
        "  dayofmon=dt.strftime(\"%d\")\n",
        "  print(dayofmon)\n",
        "  dayofweek=dt.strftime(\"%A\")\n",
        "  print(dayofweek)\n",
        "\n",
        "print_date(2022,11,2)"
      ],
      "execution_count": 25,
      "outputs": [
        {
          "output_type": "stream",
          "name": "stdout",
          "text": [
            "2022-11-02\n",
            "2022\n",
            "11\n",
            "November\n",
            "44\n",
            "306\n",
            "02\n",
            "Wednesday\n"
          ]
        }
      ]
    },
    {
      "cell_type": "markdown",
      "metadata": {
        "id": "_rpTIoSDaiBj"
      },
      "source": [
        "---\n",
        "### Exercise 8 - next 6 days\n",
        "\n",
        "Write a function that will take a date and generate the dates of the following 6 days.  It should print each of the 6 days in the form:  \n",
        "\n",
        "DAY OF THE WEEK, MONTH NAME, FULL YEAR\n",
        "\n",
        "Hint:  to generate the days, use the function datetime.timedelta(), there is a good example of its use [here](https://www.geeksforgeeks.org/python-datetime-timedelta-function/)  "
      ]
    },
    {
      "cell_type": "code",
      "metadata": {
        "id": "1d-oXqLLb0vX",
        "colab": {
          "base_uri": "https://localhost:8080/"
        },
        "outputId": "09084aa0-25d0-4991-ecb5-a3d6cdc5ef3f"
      },
      "source": [
        "import datetime\n",
        "def date_six_days(y,m,d):\n",
        "#print the date\n",
        "  dt= datetime.date(y,m,d)\n",
        "#  print (dt)\n",
        "  n=6\n",
        "  for i in range(1,n+1):\n",
        "    dt= datetime.date(y,m,d+i)\n",
        "    print(dt.strftime(\"%A\"),dt.strftime(\"%B\"),dt.strftime(\"%Y\"))\n",
        "#  for day in range(6):\n",
        "#    d+=1\n",
        "\n",
        "date_six_days(2022,1,22)"
      ],
      "execution_count": 39,
      "outputs": [
        {
          "output_type": "stream",
          "name": "stdout",
          "text": [
            "Sunday January 2022\n",
            "Monday January 2022\n",
            "Tuesday January 2022\n",
            "Wednesday January 2022\n",
            "Thursday January 2022\n",
            "Friday January 2022\n"
          ]
        }
      ]
    },
    {
      "cell_type": "markdown",
      "metadata": {
        "id": "22Rhwx2Sb1Ey"
      },
      "source": [
        "---\n",
        "### Optional extra practice\n",
        "\n",
        "There are some similar and some more challenging exercises [here](https://www.w3resource.com/python-exercises/date-time-exercise/) if you would like to practice more. The site has its own editor."
      ]
    }
  ]
}