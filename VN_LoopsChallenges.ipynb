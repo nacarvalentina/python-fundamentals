{
  "nbformat": 4,
  "nbformat_minor": 0,
  "metadata": {
    "colab": {
      "name": "VN_LoopsChallenges.ipynb",
      "provenance": [],
      "collapsed_sections": [],
      "include_colab_link": true
    },
    "kernelspec": {
      "name": "python3",
      "display_name": "Python 3"
    }
  },
  "cells": [
    {
      "cell_type": "markdown",
      "metadata": {
        "id": "view-in-github",
        "colab_type": "text"
      },
      "source": [
        "<a href=\"https://colab.research.google.com/github/nacarvalentina/python-fundamentals/blob/main/VN_LoopsChallenges.ipynb\" target=\"_parent\"><img src=\"https://colab.research.google.com/assets/colab-badge.svg\" alt=\"Open In Colab\"/></a>"
      ]
    },
    {
      "cell_type": "markdown",
      "metadata": {
        "id": "lGjlNDuSFdXx"
      },
      "source": [
        "# Loop Challenges \n",
        "\n",
        "---\n",
        "\n",
        "Each of these challenges will need a loop.  This may be a **while** loop or a **for** loop, you will need to decide which is needed."
      ]
    },
    {
      "cell_type": "markdown",
      "metadata": {
        "id": "nSx5LRcdLzx-"
      },
      "source": [
        "---\n",
        "## Challenge 1 - Sum of random numbers \n",
        "Write a function called **random_generator()** where python generates random numbers between 1 and 100 until the number 1 is generated.\n",
        "\n",
        "* use `randint(1, 100)` to generate random numbers \n",
        "* keep a running `total` - add numbers as they are generated \n",
        "* print `total` at the end \n",
        "* print the final generated number (should be 1) to check your function is working \n",
        "\n",
        "Example input (computer):\n",
        "\n",
        "10  \n",
        "78  \n",
        "6  \n",
        "42  \n",
        "56  \n",
        "81  \n",
        "15   \n",
        "1  \n",
        "\n",
        "Expected output:  \n",
        "\n",
        "289  \n",
        "1  "
      ]
    },
    {
      "cell_type": "code",
      "metadata": {
        "id": "FRRBydPTN3cv",
        "colab": {
          "base_uri": "https://localhost:8080/"
        },
        "outputId": "b97a1c05-3764-4acc-eb5d-4bd394a6e291"
      },
      "source": [
        "from random import randint\n",
        "def random_generator() :\n",
        "  total=0 \n",
        "  number=randint(1,100)\n",
        "  while number!=1:\n",
        "    number=randint(1,100)\n",
        "    total +=number\n",
        "  else:\n",
        "    print(total)\n",
        "    print(number)\n",
        "\n",
        "\n",
        "random_generator() "
      ],
      "execution_count": 5,
      "outputs": [
        {
          "output_type": "stream",
          "name": "stdout",
          "text": [
            "880\n",
            "1\n"
          ]
        }
      ]
    },
    {
      "cell_type": "markdown",
      "metadata": {
        "id": "aX8me4xxPMc0"
      },
      "source": [
        "---\n",
        "## Challenge 2 - Factorials \n",
        "\n",
        "Factorial of any number n is represented by n! and is equal to 1*2*3*....*(n-1)*n. \n",
        "\n",
        "E.g.   \n",
        "* 4! = 1 * 2 * 3 * 4 = 24  \n",
        "* 3! = 3 * 2 * 1 = 6\n",
        "* 2! = 2 * 1 = 2  \n",
        " Also,\n",
        "* 1! = 1\n",
        "* 0! = 1\n",
        "\n",
        "Write a function called **calculate_factorial()** which calculates the factorial of a user inputed number. \n",
        "\n",
        "* use a *while* loop to control repetition while the number being multiplied by is less than or equal to the number it is finding the factorial of, multiply each time round the loop  \n",
        "* print the answer at the end\n",
        "\n",
        "Test input:  \n",
        "\n",
        "6   \n",
        "10  \n",
        "1  \n",
        "0  \n",
        "\n",
        "Expected output:  \n",
        "\n",
        "720  \n",
        "3,628,800  \n",
        "1  \n",
        "1  \n",
        "\n",
        "### Extra challenge \n",
        "\n",
        "Can you write a function to calculate factorials but using a *for* loop instead? \n",
        "\n",
        "\n"
      ]
    },
    {
      "cell_type": "code",
      "metadata": {
        "id": "qcXqzf_lQDOv",
        "colab": {
          "base_uri": "https://localhost:8080/"
        },
        "outputId": "a2083d78-c76a-41ac-dcc2-6d2c4c23a9b5"
      },
      "source": [
        "def calculate_factorial():\n",
        "#for loop\n",
        "  number=int(input(\"Enter a number: \"))\n",
        "  fact=1\n",
        "  for i in range(number,0,-1):\n",
        "   fact=fact*i \n",
        "  print(fact)\n",
        "\n",
        "#while loop\n",
        "#  number=int(input(\"Enter a number: \"))\n",
        "#  i=1\n",
        "#  fact=1\n",
        "#  while i<=number:\n",
        "#    fact=fact*i\n",
        "#    i+=1\n",
        "#  print(fact)\n",
        "calculate_factorial()"
      ],
      "execution_count": 17,
      "outputs": [
        {
          "output_type": "stream",
          "name": "stdout",
          "text": [
            "Enter a number: 0\n",
            "1\n"
          ]
        }
      ]
    },
    {
      "cell_type": "markdown",
      "metadata": {
        "id": "q1q-bTvERBHm"
      },
      "source": [
        "---\n",
        "## Challenge 3 - rolling a dice \n",
        "\n",
        "Write a function called **roll_dice()** that will use the `randint()` function from random to create random dice rolls for two dice.\n",
        "\n",
        "*  'roll' the two dice 6 times and count how many doubles were rolled in those 6 rolls.\n",
        "*  use a *for* loop\n",
        "\n",
        "*Hint: to throw a dice use the following:*\n",
        "\n",
        "`dice1 = randint(1,6)`\n",
        "\n",
        "Example input (computer):  \n",
        "\n",
        "4 1   \n",
        "5 5   \n",
        "6 3   \n",
        "2 2   \n",
        "3 4  \n",
        "1 1 \n",
        "\n",
        "Expected output:\n",
        "\n",
        "3   "
      ]
    },
    {
      "cell_type": "code",
      "metadata": {
        "id": "tppPCMWHR5Vv",
        "colab": {
          "base_uri": "https://localhost:8080/"
        },
        "outputId": "3e160b27-d354-4525-f89a-04bd086fe897"
      },
      "source": [
        "from random import randint \n",
        "\n",
        "# Add your function below here\n",
        "def roll_dice():\n",
        "  doubles=0\n",
        "  for i in range(6):\n",
        "    dice1=randint(1,6)\n",
        "    dice2=randint(1,6)\n",
        "    if dice1==dice2:\n",
        "      doubles+=1\n",
        "#    print(i, dice1,dice2)\n",
        "  print(doubles)\n",
        "\n",
        "roll_dice()\n"
      ],
      "execution_count": 33,
      "outputs": [
        {
          "output_type": "stream",
          "name": "stdout",
          "text": [
            "1\n"
          ]
        }
      ]
    },
    {
      "cell_type": "markdown",
      "metadata": {
        "id": "Kn0hb-ORSETx"
      },
      "source": [
        "---\n",
        "## Challenge 4 - fizz buzz \n",
        "\n",
        "Write a function called **fizz_buzz()** using a *for* loop which:\n",
        "\n",
        "* iterates over the numbers 1 to 30   \n",
        "* if the **number** is a multiple of 3 - print \"fizz\" instead of the `number`  \n",
        "* if it is a multiple of 5 - print \"buzz\" instead of the `number`   \n",
        "* if it is a multiple of both 3 and 5 - print \"fizzbuzz\" instead of the `number`    \n",
        "\n",
        "Expected Output:   \n",
        "1  \n",
        "2  \n",
        "fizz  \n",
        "4  \n",
        "buzz  \n",
        "fizz  \n",
        "7  \n",
        "8  \n",
        "fizz  \n",
        "buzz  \n",
        "11  \n",
        "fizz  \n",
        "13  \n",
        "14  \n",
        "fizz  \n",
        "16  \n",
        "17  \n",
        "fizz  \n",
        "19  \n",
        "20  \n",
        "fizz  \n",
        "22  \n",
        "23  \n",
        "fizz  \n",
        "25  \n",
        "26  \n",
        "fizz  \n",
        "28  \n",
        "29  \n",
        "fizzbuzz  "
      ]
    },
    {
      "cell_type": "code",
      "metadata": {
        "id": "L3CBRgNdSZhy",
        "colab": {
          "base_uri": "https://localhost:8080/"
        },
        "outputId": "899da38c-d122-4b2a-fe02-710e172660f3"
      },
      "source": [
        "def fizz_buzz():\n",
        "  for i in range (1,31):\n",
        "    if i%3==0 and i%5==0:\n",
        "      print(\"fizzbuzz\")\n",
        "    elif i%3==0:\n",
        "      print(\"fizz\")\n",
        "    elif i%5==0:\n",
        "      print(\"buzz\")\n",
        "    else:\n",
        "      print(i)\n",
        "\n",
        "fizz_buzz()"
      ],
      "execution_count": 36,
      "outputs": [
        {
          "output_type": "stream",
          "name": "stdout",
          "text": [
            "1\n",
            "2\n",
            "fizz\n",
            "4\n",
            "buzz\n",
            "fizz\n",
            "7\n",
            "8\n",
            "fizz\n",
            "buzz\n",
            "11\n",
            "fizz\n",
            "13\n",
            "14\n",
            "fizzbuzz\n",
            "16\n",
            "17\n",
            "fizz\n",
            "19\n",
            "buzz\n",
            "fizz\n",
            "22\n",
            "23\n",
            "fizz\n",
            "buzz\n",
            "26\n",
            "fizz\n",
            "28\n",
            "29\n",
            "fizzbuzz\n"
          ]
        }
      ]
    },
    {
      "cell_type": "markdown",
      "metadata": {
        "id": "xFo3wYgkTBLs"
      },
      "source": [
        "---\n",
        "## Challenge 5 - perfect numbers \n",
        "\n",
        "Write a function called **check_perfect()** which checks whether a given number is perfect or not.\n",
        "\n",
        "* *a perfect number is a positive integer that is equal to the sum of its positive factors (factors > 0) excluding the number itself.* \n",
        "* *it is also half the sum of all positive factors including itself*\n",
        "\n",
        "\n",
        "*For example:*  \n",
        "*6 is a perfect number. It's only factors are 1, 2 & 3.   \n",
        "1 + 2 + 3 = 6  \n",
        "(1 + 2 + 3 + 6)/2 =6*  \n",
        "\n",
        "**Your function will:**\n",
        "\n",
        "* ask the user to input a **number**\n",
        "* find all of the given numbers that are positive factors, adding them together as it goes through the loop \n",
        "* check whether `number` is perfect or not (both checks)  \n",
        "* print either `number` is perfect or `number` is not perfect\n",
        "\n",
        "Test input:  \n",
        "6   \n",
        "23   \n",
        "28\n",
        "\n",
        "Expected output:  \n",
        "6 is perfect   \n",
        "23 is not perfect  \n",
        "28 is perfect    \n",
        "\n",
        "\n",
        "\n"
      ]
    },
    {
      "cell_type": "code",
      "metadata": {
        "id": "RsYuicPCWHqo",
        "colab": {
          "base_uri": "https://localhost:8080/"
        },
        "outputId": "b6a142c6-23c2-49e2-e2cb-e64f2debbbca"
      },
      "source": [
        "def check_perfect():\n",
        "  number=int(input(\"Insert a number: \"))\n",
        "  posfac=0\n",
        "  for i in range(number-1,0,-1):\n",
        "    if number%i==0:\n",
        "      posfac +=i\n",
        " #     print(number , posfac , i)\n",
        "  if (posfac+number)/2==number and posfac==number:\n",
        "    print(\"Number is perfect\")\n",
        "  else:\n",
        "    print(\"Number is NOT perfect\")   \n",
        "\n",
        "\n",
        "\n",
        "check_perfect()"
      ],
      "execution_count": 46,
      "outputs": [
        {
          "output_type": "stream",
          "name": "stdout",
          "text": [
            "Insert a number: 28\n",
            "Number is perfect\n"
          ]
        }
      ]
    },
    {
      "cell_type": "markdown",
      "metadata": {
        "id": "i8sxKhcEH11h"
      },
      "source": [
        "## Challenge 6 - Passcode   \n",
        "\n",
        "Write a function called **guess_letter(passcode, missing_letter)** which will allow a user to play a game with the computer.  \n",
        "\n",
        "* the computer needs to 'generate' a random passcode with a missing letter (this is done for you)   \n",
        "* the user has up to three attempts to guess the missing letter in a passcode.  \n",
        "\n",
        "### the passcode generator  \n",
        "\n",
        "This code is given to you and will choose 4 letters in the range A-Z (capitals only) and randomly selecting one to be replaced by a *  \n",
        "\n",
        "**Your function should follow these rules:**\n",
        "\n",
        "*  ask the user to enter the missing **letter**  \n",
        "*  count the **attempt**  \n",
        "* if the letter is correct, print the message \"Correct passcode\" and then stop    \n",
        "* if the letter is incorrect, print the message, \"You have `attempts` attempts left\"  \n",
        "* if three wrong attempts have been made and the user hasn't entered the correct letter, print \"No more attempts\"  \n",
        "\n",
        "Example input (computer):  \n",
        "\n",
        "NR*R , B \n",
        "\n",
        "Example input (user):  \n",
        "A    \n",
        "B  \n",
        "C  \n",
        "\n",
        "Expected output:  \n",
        "No more attempts   \n",
        "\n",
        "Example input (computer):  \n",
        "A*RD , T  \n",
        "\n",
        "Example input (user):  \n",
        "T    \n",
        "\n",
        "Expected output:  \n",
        "Correct passcode  \n",
        "\n",
        "Example input (computer):  \n",
        "*FES , F  \n",
        "\n",
        "Example input (user):  \n",
        "T\n",
        "F    \n",
        "\n",
        "Expected output:  \n",
        "You have 2 attempts left\n",
        "Correct passcode"
      ]
    },
    {
      "cell_type": "code",
      "metadata": {
        "id": "NJp2CgvtKP2Q",
        "colab": {
          "base_uri": "https://localhost:8080/"
        },
        "outputId": "477d1e66-40ac-4371-8c59-18b03580a003"
      },
      "source": [
        "### importing package random \n",
        "from random import choice, randint\n",
        "\n",
        "def guess_passcode(passcode, missing_letter):\n",
        "  ### code to generate a passcode with a missing letter, then run the function guess_passcode\n",
        "### DO NOT change anything below here\n",
        "  passcode = \"\"\n",
        "  letters = [chr(a) for a in range(ord('A'),ord('Z')+1)] # generate the letter between A and Z\n",
        "  missing_position = randint(0,3)\n",
        "  missing_letter = \"*\"\n",
        "  for i in range(4):\n",
        "    letter = choice(letters)\n",
        "    if i == missing_position:\n",
        "      missing_letter = letter\n",
        "      passcode += \"*\"\n",
        "    else:\n",
        "      passcode += letter  \n",
        "  print(passcode) \n",
        "#  print(missing_letter)\n",
        "\n",
        "# add your code below here:\n",
        "  letter=input(\"Enter the missing letter, you have got 3 attempts: \").upper() \n",
        "#  print(letter)\n",
        "  attempt=1\n",
        "  while letter!=missing_letter and attempt<=3:\n",
        "    print(\"Wrong letter\")\n",
        "    print(\"You have got\",str(3-attempt),\"attempts left\")\n",
        "    if attempt<3:   \n",
        "      letter=input(\"Enter the missing letter: \").upper() \n",
        "    attempt +=1\n",
        "  else:\n",
        "    if(letter==missing_letter):\n",
        "      print(\"Good job,\", letter, \"is the missing one\")\n",
        "    else:\n",
        "      print(\"GAME OVER\") \n",
        "\n",
        "\n",
        "guess_passcode(passcode, missing_letter)"
      ],
      "execution_count": 28,
      "outputs": [
        {
          "output_type": "stream",
          "name": "stdout",
          "text": [
            "TVQ*\n",
            "I\n",
            "Enter the missing letter, you have got 3 attempts: g\n",
            "Wrong letter\n",
            "You have got 2 attempts left\n",
            "Enter the missing letter: h\n",
            "Wrong letter\n",
            "You have got 1 attempts left\n",
            "Enter the missing letter: i\n",
            "Good job, I is the missing one\n"
          ]
        }
      ]
    }
  ]
}