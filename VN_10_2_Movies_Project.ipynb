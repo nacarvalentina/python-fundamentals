{
  "nbformat": 4,
  "nbformat_minor": 0,
  "metadata": {
    "colab": {
      "name": "VN_10.2 Movies Project.ipynb",
      "provenance": [],
      "collapsed_sections": [],
      "include_colab_link": true
    },
    "kernelspec": {
      "name": "python3",
      "display_name": "Python 3"
    },
    "language_info": {
      "name": "python"
    }
  },
  "cells": [
    {
      "cell_type": "markdown",
      "metadata": {
        "id": "view-in-github",
        "colab_type": "text"
      },
      "source": [
        "<a href=\"https://colab.research.google.com/github/nacarvalentina/python-fundamentals/blob/main/VN_10_2_Movies_Project.ipynb\" target=\"_parent\"><img src=\"https://colab.research.google.com/assets/colab-badge.svg\" alt=\"Open In Colab\"/></a>"
      ]
    },
    {
      "cell_type": "markdown",
      "metadata": {
        "id": "iNinIL0w_DHu"
      },
      "source": [
        "# Movies Mini-project\n",
        "---\n",
        "\n",
        "In the previous worksheet you converted an SQL relational database to a single pandas dataframe and downloaded it. You will be analysing it today.\n",
        "\n",
        "If you were unable to download the file, there is a copy located here: \n",
        "\n",
        "\"https://github.com/lilaceri/Working-with-data-/blob/main/Data%20Sets%20for%20code%20divisio/movies.csv?raw=true\"\n",
        "\n"
      ]
    },
    {
      "cell_type": "markdown",
      "metadata": {
        "id": "TlOJOk3vMN2C"
      },
      "source": [
        "### Inspect the dataset \n",
        "---"
      ]
    },
    {
      "cell_type": "code",
      "metadata": {
        "id": "Le5KSKHY_BM9",
        "colab": {
          "base_uri": "https://localhost:8080/"
        },
        "outputId": "5e3d795f-9d8b-41e6-ec62-11eba2127be3"
      },
      "source": [
        "import pandas as pd\n",
        "df=pd.read_csv(\"https://github.com/lilaceri/Working-with-data-/blob/main/Data%20Sets%20for%20code%20divisio/movies.csv?raw=true\")\n",
        "print(df.head())\n",
        "print(len(df))\n",
        "\n"
      ],
      "execution_count": 5,
      "outputs": [
        {
          "output_type": "stream",
          "name": "stdout",
          "text": [
            "   Unnamed: 0 first_name    last_name  ...  year  rank        genre\n",
            "0           0        Les  12 Poissons  ...  2002   NaN        Short\n",
            "1           1    Lejaren     a'Hiller  ...  1920   NaN        Drama\n",
            "2           2   Khairiya    A-Mansour  ...  1988   NaN  Documentary\n",
            "3           3    Ricardo     A. Solla  ...  2001   NaN        Drama\n",
            "4           4    Ricardo     A. Solla  ...  2001   NaN        Short\n",
            "\n",
            "[5 rows x 7 columns]\n",
            "368894\n"
          ]
        }
      ]
    },
    {
      "cell_type": "markdown",
      "metadata": {
        "id": "wIRDoCnxMRj8"
      },
      "source": [
        "### Clean the dataset \n",
        "---\n"
      ]
    },
    {
      "cell_type": "code",
      "metadata": {
        "id": "LgY60bsbMUc8",
        "colab": {
          "base_uri": "https://localhost:8080/"
        },
        "outputId": "8025b38c-9d31-4d9e-db21-e980e218b2e6"
      },
      "source": [
        "#remove duplicates\n",
        "df1=df.drop_duplicates(subset=None, keep='first', inplace=False, ignore_index=False)\n",
        "print(len(df1))                \n",
        "                   \n",
        "#remove NaN \n",
        "df2 = df.dropna()\n",
        "print(len(df2)) \n",
        "\n",
        "#remove NaN from one column\n",
        "df3= df.dropna(subset=['rank'])\n",
        "print(len(df3))"
      ],
      "execution_count": 8,
      "outputs": [
        {
          "output_type": "stream",
          "name": "stdout",
          "text": [
            "368894\n",
            "113376\n",
            "113376\n"
          ]
        }
      ]
    },
    {
      "cell_type": "markdown",
      "metadata": {
        "id": "00Vb1k3FMdei"
      },
      "source": [
        "### How many movies of each genre are there?\n",
        "---"
      ]
    },
    {
      "cell_type": "code",
      "metadata": {
        "id": "V6MsN8OcQn0u",
        "colab": {
          "base_uri": "https://localhost:8080/"
        },
        "outputId": "21a2b7a1-8557-4bb9-c286-9536be065a11"
      },
      "source": [
        "print(df.groupby('genre').count())\n",
        "#what if there are duplicates in the name of the movies?\n",
        "#remove duplicates in th ecount???\n",
        "print(df.groupby('genre').count().drop_duplicates())"
      ],
      "execution_count": 12,
      "outputs": [
        {
          "output_type": "stream",
          "name": "stdout",
          "text": [
            "             Unnamed: 0  first_name  last_name   name   year   rank\n",
            "genre                                                              \n",
            "Action            12890       12890      12890  12890  12890   5873\n",
            "Adventure          8598        8598       8598   8598   8598   3932\n",
            "Animation         17038       17038      17038  17038  17038   4727\n",
            "Comedy            54667       54667      54667  54667  54667  20633\n",
            "Crime             12610       12610      12610  12610  12610   4488\n",
            "Documentary       35698       35698      35698  35698  35698   4296\n",
            "Drama             72635       72635      72635  72635  72635  24696\n",
            "Family            11074       11074      11074  11074  11074   4845\n",
            "Fantasy            4871        4871       4871   4871   4871   2123\n",
            "Film-Noir           429         429        429    429    429    415\n",
            "Horror             7423        7423       7423   7423   7423   4227\n",
            "Music              4444        4444       4444   4444   4444    908\n",
            "Musical            6843        6843       6843   6843   6843   2491\n",
            "Mystery            4951        4951       4951   4951   4951   2012\n",
            "Romance           13562       13562      13562  13562  13562   5476\n",
            "Sci-Fi             4957        4957       4957   4957   4957   2699\n",
            "Short             72894       72894      72894  72894  72894   9894\n",
            "Thriller          10681       10681      10681  10681  10681   5440\n",
            "War                4398        4398       4398   4398   4398   1837\n",
            "Western            8231        8231       8231   8231   8231   2364\n",
            "             Unnamed: 0  first_name  last_name   name   year   rank\n",
            "genre                                                              \n",
            "Action            12890       12890      12890  12890  12890   5873\n",
            "Adventure          8598        8598       8598   8598   8598   3932\n",
            "Animation         17038       17038      17038  17038  17038   4727\n",
            "Comedy            54667       54667      54667  54667  54667  20633\n",
            "Crime             12610       12610      12610  12610  12610   4488\n",
            "Documentary       35698       35698      35698  35698  35698   4296\n",
            "Drama             72635       72635      72635  72635  72635  24696\n",
            "Family            11074       11074      11074  11074  11074   4845\n",
            "Fantasy            4871        4871       4871   4871   4871   2123\n",
            "Film-Noir           429         429        429    429    429    415\n",
            "Horror             7423        7423       7423   7423   7423   4227\n",
            "Music              4444        4444       4444   4444   4444    908\n",
            "Musical            6843        6843       6843   6843   6843   2491\n",
            "Mystery            4951        4951       4951   4951   4951   2012\n",
            "Romance           13562       13562      13562  13562  13562   5476\n",
            "Sci-Fi             4957        4957       4957   4957   4957   2699\n",
            "Short             72894       72894      72894  72894  72894   9894\n",
            "Thriller          10681       10681      10681  10681  10681   5440\n",
            "War                4398        4398       4398   4398   4398   1837\n",
            "Western            8231        8231       8231   8231   8231   2364\n"
          ]
        }
      ]
    },
    {
      "cell_type": "markdown",
      "metadata": {
        "id": "itYpwLPpQnZM"
      },
      "source": [
        "### Which director has the highest ranked movies?\n",
        "---"
      ]
    },
    {
      "cell_type": "code",
      "metadata": {
        "id": "dkW23Q27Qu0A"
      },
      "source": [
        ""
      ],
      "execution_count": null,
      "outputs": []
    },
    {
      "cell_type": "markdown",
      "metadata": {
        "id": "naiCl5kCQvS-"
      },
      "source": [
        "### How many movies have ranks of over 9?\n",
        "---\n"
      ]
    },
    {
      "cell_type": "code",
      "metadata": {
        "id": "Rb7v7WXEQ3Xl"
      },
      "source": [
        ""
      ],
      "execution_count": null,
      "outputs": []
    },
    {
      "cell_type": "markdown",
      "metadata": {
        "id": "qSM1LAZGQ32W"
      },
      "source": [
        "### Plot a bar chart of mean rank and genre\n",
        "---"
      ]
    },
    {
      "cell_type": "code",
      "metadata": {
        "id": "oDk-3bkpRUfs"
      },
      "source": [
        ""
      ],
      "execution_count": null,
      "outputs": []
    },
    {
      "cell_type": "markdown",
      "metadata": {
        "id": "O6srkKPnRbh_"
      },
      "source": [
        "### Plot a pie chart of how many movies of each genre there are \n",
        "---\n"
      ]
    },
    {
      "cell_type": "code",
      "metadata": {
        "id": "suiaWhkF6Odd"
      },
      "source": [
        ""
      ],
      "execution_count": null,
      "outputs": []
    },
    {
      "cell_type": "markdown",
      "metadata": {
        "id": "Cm9HjL_K6bvo"
      },
      "source": [
        "### Plot a graph showing the mean Rank for each year "
      ]
    },
    {
      "cell_type": "code",
      "metadata": {
        "id": "mgwSHrCt6luB"
      },
      "source": [
        ""
      ],
      "execution_count": null,
      "outputs": []
    },
    {
      "cell_type": "markdown",
      "metadata": {
        "id": "FvzMjQ5X6oeU"
      },
      "source": [
        "### What else can you find out from this dataset?\n",
        "---\n",
        "Make a plan of 3 further things you can do to interrogate and analyse this dataset"
      ]
    },
    {
      "cell_type": "markdown",
      "metadata": {
        "id": "a46YOmLd64zb"
      },
      "source": [
        "Type your answer here  \n",
        "\n",
        "1.  \n",
        "2.  \n",
        "3.   "
      ]
    },
    {
      "cell_type": "markdown",
      "metadata": {
        "id": "es_Uyz_f6-1F"
      },
      "source": [
        "### Complete the tasks you have set out in the exercise above. \n",
        "---\n"
      ]
    },
    {
      "cell_type": "code",
      "metadata": {
        "id": "GY-HzjZb7L5q"
      },
      "source": [
        ""
      ],
      "execution_count": null,
      "outputs": []
    },
    {
      "cell_type": "markdown",
      "metadata": {
        "id": "pQV2NO8umBSk"
      },
      "source": [
        "# Reflection\n",
        "----\n",
        "\n",
        "## What skills have you demonstrated in completing this notebook?"
      ]
    },
    {
      "cell_type": "markdown",
      "metadata": {
        "id": "NUVvt2r0mCKq"
      },
      "source": [
        "Your answer:"
      ]
    },
    {
      "cell_type": "markdown",
      "metadata": {
        "id": "SOrbWOuFmObq"
      },
      "source": [
        "## What caused you the most difficulty?"
      ]
    },
    {
      "cell_type": "markdown",
      "metadata": {
        "id": "G_eGng1GmO78"
      },
      "source": [
        "Your answer:"
      ]
    }
  ]
}