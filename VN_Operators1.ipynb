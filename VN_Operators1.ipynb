{
  "nbformat": 4,
  "nbformat_minor": 0,
  "metadata": {
    "colab": {
      "name": "VN_Operators1.ipynb",
      "provenance": [],
      "collapsed_sections": [],
      "include_colab_link": true
    },
    "kernelspec": {
      "name": "python3",
      "display_name": "Python 3"
    }
  },
  "cells": [
    {
      "cell_type": "markdown",
      "metadata": {
        "id": "view-in-github",
        "colab_type": "text"
      },
      "source": [
        "<a href=\"https://colab.research.google.com/github/nacarvalentina/python-fundamentals/blob/main/VN_Operators1.ipynb\" target=\"_parent\"><img src=\"https://colab.research.google.com/assets/colab-badge.svg\" alt=\"Open In Colab\"/></a>"
      ]
    },
    {
      "cell_type": "markdown",
      "metadata": {
        "id": "3O7iro_BV0mL"
      },
      "source": [
        "# Operators - arithmetic\n",
        "\n",
        "---"
      ]
    },
    {
      "cell_type": "markdown",
      "metadata": {
        "id": "Nk7bg_hfLzu7"
      },
      "source": [
        "In Python, we can use the following arithmetic operators:  \n",
        "\n",
        "![Python operators](https://drive.google.com/uc?id=1EARs0OefvMwAULyNGGs01xYLW3lIAO9B)\n",
        "\n",
        "\n",
        "\n",
        "\n",
        "\n",
        "\n",
        "\n",
        "\n",
        "\n"
      ]
    },
    {
      "cell_type": "markdown",
      "metadata": {
        "id": "ohKiZuy-OnDN"
      },
      "source": [
        "---\n",
        "### Exercise 1 - multiplication of integers\n",
        "Write a function called **print_dog_human_age()** which will:  \n",
        "\n",
        "*  ask the user to input their dog's age and assign this to an integer variable called **dog_age**  \n",
        "*  calculate the dog’s age in human years by multiplying it by 7, assigning it to a new variable called **dog_human_age**  \n",
        "*  print the age in human years (`dog_human_age`)    \n",
        "\n",
        "Test Input:  \n",
        "4  \n",
        "\n",
        "Expected output:  \n",
        "28\n"
      ]
    },
    {
      "cell_type": "code",
      "metadata": {
        "id": "kWpM2m4nO7Ir",
        "colab": {
          "base_uri": "https://localhost:8080/"
        },
        "outputId": "95ae12e3-19db-4eef-b656-5a0c7942da31"
      },
      "source": [
        "def print_dog_human_age():\n",
        "  dog_age= int(input(\"Enter dog's age: \"))\n",
        "  dog_human_age= dog_age * 7\n",
        "  print(dog_human_age)\n",
        "\n",
        "print_dog_human_age() "
      ],
      "execution_count": 2,
      "outputs": [
        {
          "output_type": "stream",
          "name": "stdout",
          "text": [
            "Enter dog's age: 4\n",
            "28\n"
          ]
        }
      ]
    },
    {
      "cell_type": "markdown",
      "metadata": {
        "id": "fvxtRRcfOnGr"
      },
      "source": [
        "---\n",
        "### Exercise 2 - BIDMAS\n",
        "Write a function called **calculate_average()** which will:  \n",
        "\n",
        "*  ask the user for 3 seperate numbers, **num1**, **num2**, **num3**  \n",
        "*  calculate the **average** of the three numbers\n",
        "*  print the `average`, rounded to 2 decimal places  \n",
        "\n",
        "*Hint 1:  to round a number, use round(), e.g. round(`average`)  *\n",
        "*Hint 2: remember the BIDMAS order of operators and use brackets to change the order if necessary.*  \n",
        "\n",
        "Test Input:  \n",
        "3  \n",
        "5  \n",
        "9  \n",
        "\n",
        "Expected output:  \n",
        "5.67"
      ]
    },
    {
      "cell_type": "code",
      "metadata": {
        "id": "jYtLq8olPRZM",
        "colab": {
          "base_uri": "https://localhost:8080/"
        },
        "outputId": "c17e19f7-14d4-4e6a-8ff9-c92221e51b0f"
      },
      "source": [
        "def calculate_average():\n",
        "  num1=int(input(\"Enter the first number: \"))\n",
        "  num2=int(input(\"Enter the second number: \"))\n",
        "  num3=int(input(\"Enter the third number: \"))  \n",
        "  average=round((num1+num2+num3)/3,2)\n",
        "  print(average)\n",
        "\n",
        "\n",
        "calculate_average()"
      ],
      "execution_count": 6,
      "outputs": [
        {
          "output_type": "stream",
          "name": "stdout",
          "text": [
            "Enter the first number: 3\n",
            "Enter the second number: 5\n",
            "Enter the third number: 9\n",
            "5.67\n"
          ]
        }
      ]
    },
    {
      "cell_type": "markdown",
      "metadata": {
        "id": "r9w0fiW-PR2D"
      },
      "source": [
        "---\n",
        "### Exercise 3 - BIDMAS\n",
        "\n",
        "Write a function called **calculate_avg_height()** which will:  \n",
        "\n",
        "*  ask the user to input their **height**  \n",
        "*  convert `height` to **height_centimeters** (multiply by 100)  \n",
        "*  print `height_centimeters`  \n",
        "\n",
        "*Remember, height in metres is usually a decimal, so data type matters*  \n",
        "\n",
        "Test Input:  \n",
        "1.67  \n",
        "\n",
        "Expected output:  \n",
        "167\n"
      ]
    },
    {
      "cell_type": "code",
      "metadata": {
        "id": "2dMgvQlUPirV",
        "colab": {
          "base_uri": "https://localhost:8080/"
        },
        "outputId": "6675be3c-ff5e-4076-9fad-4ee6413a6db3"
      },
      "source": [
        "def calculate_avg_height():\n",
        "  height= float(input(\"Isert your height: m \"))\n",
        "  height_centimeters=int(height*100)\n",
        "  print(height_centimeters)\n",
        "calculate_avg_height()"
      ],
      "execution_count": 8,
      "outputs": [
        {
          "output_type": "stream",
          "name": "stdout",
          "text": [
            "Isert your height: m 1.67\n",
            "167\n"
          ]
        }
      ]
    },
    {
      "cell_type": "markdown",
      "metadata": {
        "id": "QTprQ2zhPi9L"
      },
      "source": [
        "---\n",
        "### Exercise 4 - float and formatting printing\n",
        "\n",
        "At the time of writing, the exchange rate from Pounds (£) to Euros (€) is 1.16 (£1 = €1.16).\n",
        "\n",
        "Write a function called **convert_currency(**) which will:\n",
        "\n",
        "*  ask a user to input an amount in **pounds**  \n",
        "*  calculate the equivalent number of **euros**  \n",
        "*  print `euros`, rounded to 2 decimal places  \n",
        "\n",
        "Test Input:  \n",
        "£60\n",
        "\n",
        "Expected output:  \n",
        "€69.6  \n",
        "\n",
        "*Remember, pounds is likely to be a decimal number and that the user should not enter the £ sign.*"
      ]
    },
    {
      "cell_type": "code",
      "metadata": {
        "id": "DXqxS75kQWOm",
        "colab": {
          "base_uri": "https://localhost:8080/"
        },
        "outputId": "3a4561bb-3906-4149-d5f5-cdc0ddfa5965"
      },
      "source": [
        "def convert_currency():\n",
        "  pounds= float(input(\"Insert amount in pounds: £\"))\n",
        "  euros=round(pounds*1.16,2)\n",
        "  print(\"€\"+str(euros))\n",
        "\n",
        "convert_currency()"
      ],
      "execution_count": 10,
      "outputs": [
        {
          "output_type": "stream",
          "name": "stdout",
          "text": [
            "Insert amount in pounds: £60\n",
            "€69.6\n"
          ]
        }
      ]
    },
    {
      "cell_type": "markdown",
      "metadata": {
        "id": "Eur4tRWUQWYL"
      },
      "source": [
        "---\n",
        "### Exercise 5 - rounding\n",
        "\n",
        "Write a function called **calculate_stats()** which will:  \n",
        "\n",
        "*  assign the numbers 3.145, 5.6723 and 9.34 to the variables **num1**, **num2** and **num3** respectively  \n",
        "*  calculate the **total** of the three numbers, rounded to 2 decimal places  \n",
        "*  calculate the **average** of the numbers, rounded to 3 decimal places  \n",
        "*  print `total` and `average` in a message that labels them.\n",
        "\n",
        "Expected output:\n",
        "\n",
        "The total of the three numbers is 18.16  \n",
        "The average of the three numbers is 6.052\n",
        "\n",
        "*Remember to calculate the average you divide the total by the quantity of numbers, e.g. total/3*\n"
      ]
    },
    {
      "cell_type": "code",
      "metadata": {
        "id": "pD1lMOhuRZvd",
        "colab": {
          "base_uri": "https://localhost:8080/"
        },
        "outputId": "c2cf2fac-116f-405e-c702-e3f55fba2d79"
      },
      "source": [
        "def calculate_stats():\n",
        "  num1=3.145\n",
        "  num2=5.6723\n",
        "  num3=9.34\n",
        "  num_array=[num1,num2,num3]\n",
        "  total=round(sum(num_array),2)\n",
        "  length=len(num_array)\n",
        "  average=total/length\n",
        "  print(\"The total of the three numbers is\", str(total),\"\\n\"+\"The average of the three numbers is\",str(average))\n",
        "\n",
        "calculate_stats()"
      ],
      "execution_count": 1,
      "outputs": [
        {
          "output_type": "stream",
          "name": "stdout",
          "text": [
            "The total of the three numbers is 18.16 \n",
            "The average of the three numbers is 6.053333333333334\n"
          ]
        }
      ]
    },
    {
      "cell_type": "markdown",
      "metadata": {
        "id": "jsV3uF5aRZ56"
      },
      "source": [
        "---\n",
        "### Exercise 6 - calculating volume\n",
        "\n",
        "Bill is moving house. He needs to know how much space his cardboard packing boxes have.   \n",
        "\n",
        "Write a function called **calculate_volume()** which will:   \n",
        "\n",
        "*  assign the value 3.2, 5.6 and 7.8 to the variables **base**, **width** and **height** respectively  \n",
        "*  calculate the **box_volume** rounded to 1 decimal place  \n",
        "*  print the `box_volume`\n",
        "\n",
        "*Hint: volume = base x width x height*\n",
        "\n",
        "Expected output:  \n",
        "139.8\n"
      ]
    },
    {
      "cell_type": "code",
      "metadata": {
        "id": "WVLFFYayRwcN",
        "colab": {
          "base_uri": "https://localhost:8080/"
        },
        "outputId": "beb21508-2fb3-40df-d0d2-30af8a621a86"
      },
      "source": [
        "def calculate_volume():\n",
        "  base= 3.2\n",
        "  width=5.6\n",
        "  height=7.8\n",
        "  box_volume= round(base*width*height,1)\n",
        "  print(box_volume)\n",
        "\n",
        "calculate_volume() "
      ],
      "execution_count": 4,
      "outputs": [
        {
          "output_type": "stream",
          "name": "stdout",
          "text": [
            "139.8\n"
          ]
        }
      ]
    },
    {
      "cell_type": "markdown",
      "metadata": {
        "id": "Apy8QqKIB3_c"
      },
      "source": [
        "---\n",
        "***Floor Division***  \n",
        "*So far, we have been using standard arithmetic operators. If we would like to divide without remainders (eg. no decimals) we can use floor division using the // operator.  This will always round down*.  \n",
        "\n",
        "*For example*:  \n",
        "*42/8 = 5.75*  \n",
        "*BUT*  \n",
        "4*2//8 = 5*"
      ]
    },
    {
      "cell_type": "markdown",
      "metadata": {
        "id": "eGo_VENXRwo0"
      },
      "source": [
        "---\n",
        "### Exercise 7 - calculating with volumes\n",
        "\n",
        "Bill needs to work out how many boxes he will need.  \n",
        "\n",
        "Building on what you did in the last exercise, write a function called **calculate_boxes(base, width, height)** which will:  \n",
        "\n",
        "*  calculate the volume of a box, using the **base**, **width** and **height** supplied in the brackets  \n",
        "*  ask Bill for the **total_volume** of his stuff  \n",
        "*  calculate the total **number_of_boxes** he will need, and print the `number_of_boxes`  \n",
        "\n",
        "*Hint: the `total` will not be a decimal number - you should use floor division and add one to the answer (for the box that will have the leftovers).*\n",
        "\n",
        "Test Input:  \n",
        "1500  \n",
        "\n",
        "Expected output:  \n",
        "11  \n"
      ]
    },
    {
      "cell_type": "code",
      "metadata": {
        "id": "0X6TKFubSIpT",
        "colab": {
          "base_uri": "https://localhost:8080/"
        },
        "outputId": "ffaa98f9-1158-48a8-90c1-1957c867e25b"
      },
      "source": [
        "def calculate_boxes(base, width, height):\n",
        "  # add your code below here to calculate the boxVolume, ask for totalVolume and calculate number of boxes\n",
        "  box_volume= round(base*width*height,1)\n",
        "  total_volume= float(input(\"Enter the total volume of your stuff: \"))\n",
        "  number_of_boxes=int(total_volume//box_volume+1)\n",
        "  print(number_of_boxes)\n",
        "\n",
        "calculate_boxes(3.2, 5.6, 7.8)\n"
      ],
      "execution_count": 13,
      "outputs": [
        {
          "output_type": "stream",
          "name": "stdout",
          "text": [
            "Enter the total volume of your stuff: 1500\n",
            "11\n"
          ]
        }
      ]
    },
    {
      "cell_type": "markdown",
      "metadata": {
        "id": "paxj6AccSIwy"
      },
      "source": [
        "---\n",
        "### Exercise 8 - floor division\n",
        "\n",
        "Write a function called **calculate_parcel_weight()** which will:  \n",
        "\n",
        "*  ask the user to enter the weights, in kg, of four parcels (**weight1, weight2, weight3, weight4**)\n",
        "*  calculate the total **parcel_weight** and display this in a whole number of kg, rounded up  \n",
        "*  print the `parcel_weight`\n",
        "\n",
        "*Hint: round() could either round up or down.  Floor division could be a better option* \n",
        "\n",
        "Test Inputs:  \n",
        "1.23  \n",
        "2.84  \n",
        "1.675  \n",
        "3.03  \n",
        "\n",
        "Expected output:  \n",
        "9kg\n"
      ]
    },
    {
      "cell_type": "code",
      "metadata": {
        "id": "Lulkpg6rStwT",
        "colab": {
          "base_uri": "https://localhost:8080/"
        },
        "outputId": "14b20ff2-4fb0-4248-ae2d-8c9d52124fca"
      },
      "source": [
        "def calculate_parcel_weight():\n",
        "  weight1=float(input(\"Enter weight parcel 1: Kg\"))\n",
        "  weight2=float(input(\"Enter weight parcel 2: Kg\"))\n",
        "  weight3=float(input(\"Enter weight parcel 3: Kg\"))\n",
        "  weight4=float(input(\"Enter weight parcel 4: Kg\"))\n",
        "  weight=[weight1,weight2,weight3,weight4]\n",
        "  parcel_weight= round(sum(weight))\n",
        "  print(str(parcel_weight) +\"Kg\")\n",
        "  \n",
        "\n",
        "calculate_parcel_weight()"
      ],
      "execution_count": 21,
      "outputs": [
        {
          "output_type": "stream",
          "name": "stdout",
          "text": [
            "Enter weight parcel 1: Kg1.23\n",
            "Enter weight parcel 2: Kg2.84\n",
            "Enter weight parcel 3: Kg1.675\n",
            "Enter weight parcel 4: Kg3.03\n",
            "9Kg\n"
          ]
        }
      ]
    },
    {
      "cell_type": "markdown",
      "metadata": {
        "id": "SduMAQwsXKiA"
      },
      "source": [
        "---\n",
        "### Exercise 9 - modulus\n",
        "\n",
        "Write a function called **get_pm_minutes()** which will:  \n",
        "\n",
        "*  ask the user to enter an afternoon **time** in 24 hour clock (e.g. 1350) \n",
        "*  use floor division to get the **hour** (ie divide by 100)  \n",
        "*  use modulus to get the **minutes**  \n",
        "*  subtract 12 to get the 12 hour clock storing the result back in `hour`      \n",
        "*  print a message to say that It is `minutes` minutes past `hour` PM\n",
        "\n",
        "Test Input:  \n",
        "1350  \n",
        "\n",
        "Expected output:  \n",
        "It is 50 minutes past 1 PM\n",
        "\n",
        "*(Is it possible to use this code to get the right hour for a morning time?  You will do this in the section that allows selection depending on value)*\n",
        "\n"
      ]
    },
    {
      "cell_type": "code",
      "metadata": {
        "id": "dSxM7C1dXK9g",
        "colab": {
          "base_uri": "https://localhost:8080/"
        },
        "outputId": "e7acea7d-61ac-4125-f618-ab8a13e29054"
      },
      "source": [
        "def get_pm_minutes():\n",
        "  time=int(input(\"Enter an afternoon time in 24hour clock: \"))\n",
        "  hour=time//100\n",
        "  minutes= time%100\n",
        "  hour=hour-12\n",
        "  print(\"It is\",minutes, \"minutes past\", hour ,\"PM\")\n",
        "\n",
        "get_pm_minutes()"
      ],
      "execution_count": 24,
      "outputs": [
        {
          "output_type": "stream",
          "name": "stdout",
          "text": [
            "Enter an afternoon time in 24hour clock: 1350\n",
            "It is 50 minutes past 1 PM\n"
          ]
        }
      ]
    },
    {
      "cell_type": "markdown",
      "metadata": {
        "id": "HUwYL72HSt5b"
      },
      "source": [
        "---\n",
        "### Exercise 10 - How many tins of beans?  \n",
        "\n",
        "Write a function called **calculate_tins()** that will calculate how many tins of beans will fit in a cardboard box. Bean tins are *11cm tall* and *8cm* diameter.  All tins will be standing up and can be stacked in layers.  \n",
        "\n",
        "*  use the **height**, **width** and **depth** of the box supplied in the function’s brackets.   \n",
        "*  calculate the **number_of_tins** that can fit in the box   \n",
        "*  print the `number_of_tins` that can fit  \n",
        "\n",
        "*Hint: you will need to calculate the number of layers, and the number that will fit in each direction, the product (all of the numbers multiplied together) will tell you how many tins. All answers must be whole numbers*  \n",
        "\n",
        "\n",
        "Expected output:  \n",
        "24 tins will fit in this box  \n"
      ]
    },
    {
      "cell_type": "code",
      "metadata": {
        "id": "HNTLnqrDVdAW",
        "colab": {
          "base_uri": "https://localhost:8080/"
        },
        "outputId": "bb4a464a-3429-483c-cdc8-84dddaa81a43"
      },
      "source": [
        "def calculate_tins(height, width, depth):\n",
        "   # add your code below here\n",
        "  volume_box=height*width*depth\n",
        "  t_height=11\n",
        "  b_diameter=8\n",
        "  max_h=height//t_height\n",
        "  max_w=width//b_diameter\n",
        "  max_d= depth//b_diameter\n",
        "\n",
        "  number_of_tins=max_h*max_w*max_d\n",
        "  print(number_of_tins)\n",
        "\n",
        "calculate_tins(24, 50, 18)"
      ],
      "execution_count": 31,
      "outputs": [
        {
          "output_type": "stream",
          "name": "stdout",
          "text": [
            "24\n"
          ]
        }
      ]
    }
  ]
}